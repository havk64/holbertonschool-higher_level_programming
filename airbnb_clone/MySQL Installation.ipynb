{
 "cells": [
  {
   "cell_type": "markdown",
   "metadata": {},
   "source": [
    "# MySQL installation Guide\n",
    "As suggested in project's page (https://intranet.hbtn.io/projects/181) we should install MySQL in our server following the instructions provided in this webpage: \n",
    "http://dev.mysql.com/doc/refman/5.7/en/installing.html  \n",
    "\n",
    "Here is a summary of each step to accomplish this task  \n",
    "This instructions works with the following distributions:  \n",
    "* Debian 7.x (“wheezy”)\n",
    "\n",
    "* Debian 8.x (“jessie”)\n",
    "\n",
    "* Ubuntu 12.04 LTS (“Precise Pangolin”)\n",
    "\n",
    "* Ubuntu 14.04 LTS (“Trusty Tahr”)\n",
    "\n",
    "* Ubuntu 15.10 (“Wily Werewolf”)\n",
    "  \n",
    "****"
   ]
  },
  {
   "cell_type": "markdown",
   "metadata": {},
   "source": [
    "### Adding the MySQL APT Repository:\n",
    "Download MySQL APT Repository:"
   ]
  },
  {
   "cell_type": "code",
   "execution_count": null,
   "metadata": {
    "collapsed": false
   },
   "outputs": [],
   "source": [
    "wget http://dev.mysql.com/get/mysql-apt-config_0.7.3-1_all.deb"
   ]
  },
  {
   "cell_type": "markdown",
   "metadata": {},
   "source": [
    "We suggest that you use the MD5 checksums and GnuPG signatures to verify the integrity of the packages you download:  \n",
    "The MD5 for the package you downloaded is:  **2bde8549a7d7ef95759d2816e45b9d44**  \n",
    "Use the following command from you server's terminal:  "
   ]
  },
  {
   "cell_type": "code",
   "execution_count": null,
   "metadata": {
    "collapsed": true
   },
   "outputs": [],
   "source": [
    "md5sum mysql-apt-config_0.7.3-1_all.deb"
   ]
  },
  {
   "cell_type": "markdown",
   "metadata": {},
   "source": [
    "Install the downloaded release package with the following command:  "
   ]
  },
  {
   "cell_type": "code",
   "execution_count": null,
   "metadata": {
    "collapsed": true
   },
   "outputs": [],
   "source": [
    "sudo dpkg -i mysql-apt-config_0.7.3-1_all.deb"
   ]
  },
  {
   "cell_type": "markdown",
   "metadata": {},
   "source": [
    "During the installation of the package, you will be asked to choose the versions of the MySQL server and other components.  \n",
    "Choose **\"OK\"** and press **Enter**. \n",
    "\n",
    "Now update package information from the MySQL APT repository:  "
   ]
  },
  {
   "cell_type": "code",
   "execution_count": null,
   "metadata": {
    "collapsed": true
   },
   "outputs": [],
   "source": [
    "sudo apt-get update"
   ]
  },
  {
   "cell_type": "markdown",
   "metadata": {},
   "source": [
    "### Installing MySQL with APT\n",
    "Install MySQL with the following command:  "
   ]
  },
  {
   "cell_type": "code",
   "execution_count": null,
   "metadata": {
    "collapsed": true
   },
   "outputs": [],
   "source": [
    "sudo apt-get install mysql-server"
   ]
  },
  {
   "cell_type": "markdown",
   "metadata": {},
   "source": [
    "Choose a (strong)root password for your mysql installation and save it in a secure place."
   ]
  },
  {
   "cell_type": "markdown",
   "metadata": {},
   "source": [
    "> (More content will be added as needed...)"
   ]
  },
  {
   "cell_type": "code",
   "execution_count": null,
   "metadata": {
    "collapsed": true
   },
   "outputs": [],
   "source": []
  }
 ],
 "metadata": {
  "kernelspec": {
   "display_name": "Bash",
   "language": "bash",
   "name": "bash"
  },
  "language_info": {
   "codemirror_mode": "shell",
   "file_extension": ".sh",
   "mimetype": "text/x-sh",
   "name": "bash"
  }
 },
 "nbformat": 4,
 "nbformat_minor": 0
}
