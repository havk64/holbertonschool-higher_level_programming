{
 "cells": [
  {
   "cell_type": "markdown",
   "metadata": {},
   "source": [
    "# MySQL installation Guide\n",
    "As suggested in project's page (https://intranet.hbtn.io/projects/181) we should install MySQL in our server following the instructions provided in this webpage: \n",
    "http://dev.mysql.com/doc/refman/5.7/en/installing.html  \n",
    "\n",
    "Here is a summary of each step to accomplish this task  \n",
    "This instructions works with the following distributions:  \n",
    "* Debian 7.x (“wheezy”)\n",
    "\n",
    "* Debian 8.x (“jessie”)\n",
    "\n",
    "* Ubuntu 12.04 LTS (“Precise Pangolin”)\n",
    "\n",
    "* Ubuntu 14.04 LTS (“Trusty Tahr”)\n",
    "\n",
    "* Ubuntu 15.10 (“Wily Werewolf”)\n",
    "  \n",
    "****"
   ]
  },
  {
   "cell_type": "markdown",
   "metadata": {},
   "source": [
    "### 1. Adding the MySQL APT Repository:\n",
    "Download MySQL APT Repository:"
   ]
  },
  {
   "cell_type": "code",
   "execution_count": null,
   "metadata": {
    "collapsed": false
   },
   "outputs": [],
   "source": [
    "wget http://dev.mysql.com/get/mysql-apt-config_0.7.3-1_all.deb"
   ]
  },
  {
   "cell_type": "markdown",
   "metadata": {},
   "source": [
    "We suggest that you use the MD5 checksums and GnuPG signatures to verify the integrity of the packages you download:  \n",
    "The MD5 for the package you downloaded is:  **2bde8549a7d7ef95759d2816e45b9d44**  \n",
    "Use the following command from you server's terminal:  "
   ]
  },
  {
   "cell_type": "code",
   "execution_count": null,
   "metadata": {
    "collapsed": true
   },
   "outputs": [],
   "source": [
    "md5sum mysql-apt-config_0.7.3-1_all.deb"
   ]
  },
  {
   "cell_type": "markdown",
   "metadata": {},
   "source": [
    "Install the downloaded release package with the following command:  "
   ]
  },
  {
   "cell_type": "code",
   "execution_count": null,
   "metadata": {
    "collapsed": true
   },
   "outputs": [],
   "source": [
    "sudo dpkg -i mysql-apt-config_0.7.3-1_all.deb"
   ]
  },
  {
   "cell_type": "markdown",
   "metadata": {},
   "source": [
    "During the installation of the package, you will be asked to choose the versions of the MySQL server and other components.  \n",
    "Choose **\"OK\"** and press **Enter**. \n",
    "\n",
    "Now update package information from the MySQL APT repository:  "
   ]
  },
  {
   "cell_type": "code",
   "execution_count": null,
   "metadata": {
    "collapsed": true
   },
   "outputs": [],
   "source": [
    "sudo apt-get update"
   ]
  },
  {
   "cell_type": "markdown",
   "metadata": {},
   "source": [
    "### 2. Installing MySQL with APT\n",
    "Install MySQL with the following command:  "
   ]
  },
  {
   "cell_type": "code",
   "execution_count": null,
   "metadata": {
    "collapsed": true
   },
   "outputs": [],
   "source": [
    "sudo apt-get install mysql-server"
   ]
  },
  {
   "cell_type": "markdown",
   "metadata": {},
   "source": [
    "Choose a (strong)root password for your mysql installation and save it in a secure place."
   ]
  },
  {
   "cell_type": "markdown",
   "metadata": {},
   "source": [
    "Now check the status of mysql server by running:  "
   ]
  },
  {
   "cell_type": "code",
   "execution_count": null,
   "metadata": {
    "collapsed": true
   },
   "outputs": [],
   "source": [
    "sudo service mysql status"
   ]
  },
  {
   "cell_type": "markdown",
   "metadata": {},
   "source": [
    "More information here:\n",
    "http://dev.mysql.com/doc/mysql-apt-repo-quick-guide/en/#apt-repo-fresh-install\n",
    "\n",
    "### 3. Allowing remote connections  \n",
    "Now we need to allow remote connections.  \n",
    "Open the file /etc/mysql/my.cnf:  "
   ]
  },
  {
   "cell_type": "code",
   "execution_count": null,
   "metadata": {
    "collapsed": true
   },
   "outputs": [],
   "source": [
    "emacs(or your favorite editor) /etc/mysql/my.cnf"
   ]
  },
  {
   "cell_type": "markdown",
   "metadata": {},
   "source": [
    "Comment the line:  *(inserting the # character at the beginning of the line)*\n",
    "```\n",
    "bind-address = 127.0.0.1\n",
    "```\n",
    "...and restart mysql:  "
   ]
  },
  {
   "cell_type": "code",
   "execution_count": null,
   "metadata": {
    "collapsed": true
   },
   "outputs": [],
   "source": [
    "sudo service restart mysql"
   ]
  },
  {
   "cell_type": "markdown",
   "metadata": {},
   "source": [
    "More info here:  \n",
    "http://stackoverflow.com/questions/5218733/problems-in-connecting-to-mysql-server-error-2003-hy000"
   ]
  },
  {
   "cell_type": "markdown",
   "metadata": {},
   "source": [
    "### 4. Accessing the database as root user\n",
    "To access the database as root user you need to enter the following command: (your root password will be requested) "
   ]
  },
  {
   "cell_type": "code",
   "execution_count": null,
   "metadata": {
    "collapsed": true
   },
   "outputs": [],
   "source": [
    "mysql -u root -p"
   ]
  },
  {
   "cell_type": "markdown",
   "metadata": {},
   "source": [
    "(*The root password is the same password defined in the step 2.*)"
   ]
  },
  {
   "cell_type": "markdown",
   "metadata": {},
   "source": [
    "### 5. Running scripts as root\n",
    "To run a SQL script locally as root you can do the following:  (your root password will be requested)"
   ]
  },
  {
   "cell_type": "code",
   "execution_count": null,
   "metadata": {
    "collapsed": true
   },
   "outputs": [],
   "source": [
    "mysql -u root -p < init.sql"
   ]
  },
  {
   "cell_type": "markdown",
   "metadata": {},
   "source": [
    "### 6.User options file\n",
    "Optionally you can put your user and password in the `~/.my.cnf` file to avoid type your password everytime.  \n",
    "\n",
    "```\n",
    "[client]\n",
    "user = root\n",
    "password = xxxxxxx    <<<= your password here\n",
    "```\n",
    "\n",
    "*Note: You can add several users the same way in the same file*  \n",
    "*Optionally, due to security issues, you may want to:   \n",
    "``chmod 0600 ~/.my.cnf``.*  \n",
    "*This file can be set in your server and in your client machine.*\n",
    "\n",
    "More info here: http://dev.mysql.com/doc/refman/5.7/en/option-files.html\n",
    "\n",
    "\n",
    "Now that you have a user options file you can just:  "
   ]
  },
  {
   "cell_type": "code",
   "execution_count": null,
   "metadata": {
    "collapsed": true
   },
   "outputs": [],
   "source": [
    "mysql -u myuser  # and add \"-h serverIP\" if you are connecting from a remote(client) machine."
   ]
  }
 ],
 "metadata": {
  "kernelspec": {
   "display_name": "Bash",
   "language": "bash",
   "name": "bash"
  },
  "language_info": {
   "codemirror_mode": "shell",
   "file_extension": ".sh",
   "mimetype": "text/x-sh",
   "name": "bash"
  }
 },
 "nbformat": 4,
 "nbformat_minor": 0
}
